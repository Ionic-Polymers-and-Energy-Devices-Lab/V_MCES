{
 "cells": [
  {
   "cell_type": "code",
   "execution_count": null,
   "metadata": {},
   "outputs": [],
   "source": [
    "import os\n",
    "import pandas as pd\n",
    "\n",
    "import sys\n",
    "sys.path.append(\"../../lib\")\n",
    "from kmeans import KMeansModel\n",
    "from utils import standard_scale\n",
    "\n",
    "# Path to the raw data\n",
    "csv = \"../../data/database.csv\"\n",
    "# Base path to results directory\n",
    "results = \"../../results/initial\"\n",
    "\n",
    "# Columns in the data set to use for clustering\n",
    "process = ['E(HOMO)', 'E(LUMO)', 'He8_steric', 'PA', 'Q(B)', 'BE(B)', 'P-B', 'DP-A(B)', 'DA-P-A(B)', 'Q(Au)', 'BE(Au)',\n",
    "           'Au-Cl', 'Au-P', 'DP-A(Au)', 'DA-P-A(Au)', 'Q(Pd)', 'BE(Pd)', 'Pd-Cl trans', 'P-Pd', 'DP-A(Pd)',\n",
    "           'DA-P-A(Pd)', 'Q(Pt)', 'BE(Pt)', 'P-Pt', 'DP-A(Pt)', 'DA-P-A(Pt)', '<(H3P)Pt(PH3)', \"S4'\"]\n",
    "# Columns in the data set to exclude from clustering\n",
    "#drop = ['Type', \"PC1\", \"PC2\", \"PC3\", \"PC4\"]\n",
    "#drop = [\"SMILES\", \"RDKit_Mol_Class\"]\n",
    "drop = [\"SMILES\", \"RDKit_Mol_Class\", \"Degradation(%)\"]\n",
    "# IDs of reference ligands\n",
    "pos_refs = [16, 41, 54, 113]\n",
    "neg_refs = [21]\n",
    "\n",
    "# Read the raw data\n",
    "lkb = pd.read_csv(csv, sep=\";\", index_col=0)\n",
    "\n",
    "# Data processing\n",
    "X = lkb.drop(columns=drop)\n",
    "X = standard_scale(X)\n",
    "\n",
    "# Initialize the model\n",
    "model = KMeansModel(X=X, k=5, rs=1)\n",
    "\n",
    "# Run the model\n",
    "model.run()\n",
    "\n",
    "# Append the resulting clusters to the raw data and save it\n",
    "lkb = pd.concat([lkb, model.clusters], axis=1)\n",
    "lkb.to_csv(os.path.join(results, \"LKB_P_clusters.csv\"), sep=\";\")\n",
    "\n",
    "# Run the statistical evaluation\n",
    "stats = model.stats(ref_ids=pos_refs, k=5, rs_range=1)\n",
    "stats.to_csv(os.path.join(results, \"LKB_P_stats.csv\"), sep=\";\")\n",
    "\n",
    "print(stats.loc[pos_refs])"
   ]
  }
 ],
 "metadata": {
  "kernelspec": {
   "display_name": "tf21",
   "language": "python",
   "name": "tf21"
  },
  "language_info": {
   "codemirror_mode": {
    "name": "ipython",
    "version": 3
   },
   "file_extension": ".py",
   "mimetype": "text/x-python",
   "name": "python",
   "nbconvert_exporter": "python",
   "pygments_lexer": "ipython3",
   "version": "3.7.10"
  }
 },
 "nbformat": 4,
 "nbformat_minor": 4
}
