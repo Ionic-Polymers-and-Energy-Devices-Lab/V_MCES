{
 "cells": [
  {
   "cell_type": "code",
   "execution_count": 58,
   "id": "72345fd3",
   "metadata": {},
   "outputs": [
    {
     "name": "stdout",
     "output_type": "stream",
     "text": [
      "1      0\n",
      "2      1\n",
      "3      4\n",
      "4      0\n",
      "5      0\n",
      "      ..\n",
      "892    0\n",
      "893    0\n",
      "894    0\n",
      "895    0\n",
      "896    0\n",
      "Name: Clusters_5, Length: 896, dtype: int64\n"
     ]
    }
   ],
   "source": [
    "import os\n",
    "import pandas as pd\n",
    "\n",
    "import sys\n",
    "sys.path.append(\"../../lib\")\n",
    "from kmeans import KMeansModel\n",
    "from utils import standard_scale\n",
    "\n",
    "# Path to the raw data\n",
    "csv = \"../../data/database_marked.csv\"\n",
    "# Base path to results directory\n",
    "results = \"../../results/unsupervised-small\"\n",
    "\n",
    "fdata=pd.read_csv(csv,encoding=\"gbk\", index_col=0)\n",
    "raw_data_all=fdata.iloc[:,0:162]\n",
    "pca_all=fdata.iloc[:,162:]\n",
    "drop1=[\"SMILES\", \"RDKit_Mol_Class\"]\n",
    "drop2=[\"Degradation(%)\",\"Clusters_5\",\"Clusters_10\"]\n",
    "raw_data = raw_data_all.drop(columns=drop1)\n",
    "pca_data = pca_all.drop(columns=drop2)\n",
    "\n",
    "Y_real=raw_data_all=fdata[\"Clusters_5\"]\n",
    "Y_real=pd.DataFrame(Y_real)\n",
    "y_real_degradation_series=pd.Series(Y_real.iloc[:,0])\n",
    "\n",
    "importance=[154,162,157,156,158,159,160,8,11,17,7,23,50,21,103,18,0,96,29,25,94,64,30,24,32,31,70,27,105,102]\n",
    "param=raw_data.iloc[:,importance]\n",
    "\n",
    "X = standard_scale(raw_data)\n",
    "from sklearn.cluster import DBSCAN\n",
    "corr_ann_min = 0\n",
    "for eps_range in range(0.5,12,10):\n",
    "    for samples_range in range(1,900,1):\n",
    "        dbscan = DBSCAN(eps = eps_range, min_samples=samples_range)\n",
    "        dbscan.fit(X)\n",
    "        dbscan.labels_.reshape(-1,1)\n",
    "        x_prediction_degradation_ann_series=pd.Series(dbscan.labels_)\n",
    "        corr_ann = round(x_prediction_degradation_ann_series.corr(y_real_degradation_series), 4)\n",
    "        if corr_ann>corr_ann_min:\n",
    "            corr_ann_min = corr_ann\n",
    "            good_y_prediction = dbscan.labels_\n",
    "            good_y_prediction = pd.DataFrame(good_y_prediction)\n",
    "            lkb = pd.concat([raw_data, good_y_prediction], axis=1)\n",
    "            result = chem=\"sum\"+str(eps_range)+\"_\"+str(samples_range)+\".csv\"\n",
    "            lkb.to_csv(os.path.join(results, result))\n",
    "        "
   ]
  },
  {
   "cell_type": "code",
   "execution_count": 36,
   "id": "46430632",
   "metadata": {},
   "outputs": [],
   "source": [
    "X = standard_scale(raw_data)\n",
    "\n",
    "model = KMeansModel(X=X, k=5, rs=1)\n",
    "\n",
    "# Run the model\n",
    "model.run()\n",
    "\n",
    "# Append the resulting clusters to the raw data and save it\n",
    "lkb = pd.concat([raw_data_all, model.clusters], axis=1)\n",
    "lkb.to_csv(os.path.join(results, \"LKB_P_clusters.csv\"))"
   ]
  },
  {
   "cell_type": "code",
   "execution_count": 90,
   "id": "0cccad02",
   "metadata": {},
   "outputs": [
    {
     "name": "stdout",
     "output_type": "stream",
     "text": [
      "[-1 -1 -1 -1 -1 -1 -1 -1 -1 -1 -1 -1 -1 -1 -1 -1 -1 -1 -1 -1 -1 -1 -1 -1\n",
      " -1 -1 -1 -1 -1 -1 -1 -1 -1 -1 -1  0  0  0  0  0  0 -1 -1 -1 -1 -1 -1 -1\n",
      " -1 -1 -1 -1 -1 -1 -1 -1 -1 -1 -1 -1 -1 -1 -1 -1 -1 -1 -1 -1 -1 -1 -1 -1\n",
      " -1 -1 -1 -1 -1 -1 -1 -1 -1 -1 -1 -1 -1 -1 -1 -1 -1 -1 -1 -1 -1  0 -1 -1\n",
      " -1 -1 -1 -1 -1 -1 -1 -1 -1 -1 -1 -1 -1 -1 -1 -1 -1 -1 -1  0 -1 -1 -1 -1\n",
      " -1 -1 -1 -1 -1 -1 -1 -1 -1 -1 -1 -1 -1  0 -1 -1 -1 -1 -1 -1 -1 -1 -1 -1\n",
      " -1 -1 -1 -1  1 -1 -1  0 -1 -1 -1 -1 -1 -1 -1 -1 -1  0 -1 -1 -1 -1  1 -1\n",
      " -1 -1 -1 -1 -1 -1  1 -1 -1 -1 -1 -1 -1 -1 -1 -1 -1 -1  0 -1 -1 -1 -1 -1\n",
      " -1 -1 -1 -1 -1 -1 -1 -1 -1 -1 -1 -1 -1  2  2  2  2  2  2  2  0  0  0  0\n",
      "  0  0  0  3  3  3  3  3  3  3  4  4  4  4  4  4  4  5  5  5  5  5  5  5\n",
      "  6  6  6 -1  6  6  6 -1 -1 -1 -1 -1 -1 -1  7  7  7  7  7  7  7 -1  1 -1\n",
      "  1  1  1  1  8  8  8  8  8  8  8  9  9  9  9  9  9  9 10 10 10 10 10 10\n",
      " 10 11 11 11 11 11 11 11 12 12 12 12 12 12 12 13 13 13 13 13 13 13 14 14\n",
      " 14 14 14 14 14 15 15 15 15 15 15 15 16 16 16 16 16 16 16 17 17 17 17 17\n",
      " 17 17 18 18 18 18 18 18 18 19 19 19 19 19 19 19 20 20 -1 20 20 20 20 21\n",
      " 21 21 21 21 21 21 22 22 22 22 22 22 22 23 23 23 23 23 23 23 24 24 24 24\n",
      " 24 24 24  2  2  2  2  2  2  2  0  0  0  0  0  0  0  3  3  3  3  3  3  3\n",
      " -1 -1  4  4 -1  4  4  5  5  5 -1  5  5  5  6  6  6  6  6  6  6 -1 -1 -1\n",
      " -1 -1 -1 -1  7  7  7  7  7  7  7 -1  1  1 -1  1  1  1  8  8  8  8  8  8\n",
      "  8  9  9  9  9  9  9  9 10 10 10 10 10 10 10 11 11 11 11 11 11 11 12 12\n",
      " 12 12 12 12 12 13 13 13 13 13 13 13 14 -1 14 14 14 14 14 15 15 15 15 15\n",
      " 15 15 16 16 16 16 16 16 16 17 17 17 17 17 17 17 18 18 18 18 18 18 18 19\n",
      " 19 19 19 19 19 19 20 20 20 20 20 -1 20 21 21 21 21 21 21 -1 22 22 22 22\n",
      " 22 22 22 23 23 23 23 23 23 23 24 24 24 24 24 24 24 -1 -1 -1 -1 -1 -1 -1\n",
      " -1 -1 -1 -1 -1 -1 -1 -1 -1 -1 -1 -1 -1 -1 -1 -1 -1 -1 -1 -1 -1 -1 -1 -1\n",
      " -1 -1 -1 -1 -1 -1 -1 -1 -1 -1 -1 -1 -1 -1 -1 -1 -1  0  0  0 -1 -1 -1 -1\n",
      " -1 -1 -1 -1 -1 -1 -1  0 -1 -1 -1 -1 -1 -1 -1 -1 -1 -1 -1 -1 -1 -1 -1 -1\n",
      " -1 -1 -1 -1 -1 -1 -1 -1 -1 -1 -1 -1 -1 -1 -1 -1 -1 -1 -1 -1 -1 -1 -1 -1\n",
      " -1 -1 -1 -1 -1 -1 -1 -1 -1 -1 -1 -1 -1 -1 -1 -1 -1 -1 -1 -1 -1 -1 -1 -1\n",
      " -1 -1 -1 -1 -1 -1 -1 -1 -1 -1 -1 -1 -1 -1 -1 -1 -1 -1 -1 -1 -1 -1 -1 -1\n",
      " -1 -1 -1 -1 -1 -1 -1 -1 -1 -1 -1 -1 -1 -1 -1 -1 -1 -1 -1 -1 -1 -1 -1 -1\n",
      " -1 -1 -1 -1 -1 -1 -1 -1 -1 -1 -1 -1 -1 -1 -1 -1 -1 -1 -1 -1 -1 -1 -1 -1\n",
      " -1 -1 -1 -1 -1 -1 -1 -1 -1 -1 -1 -1 -1 -1 -1 -1 -1 -1 -1 -1 -1 -1 -1 -1\n",
      " -1 -1 -1 -1 -1 -1 -1  0 -1 -1 -1 -1 -1  0 -1 -1 -1 -1 -1 -1 -1 -1 -1 -1\n",
      " -1 -1 -1 -1 -1 -1 -1 -1 -1 -1 -1 -1 -1 -1 -1 -1 -1  0 -1 -1 -1 -1 -1 -1\n",
      "  0 -1 -1 -1 -1 -1 -1  0 -1 -1 -1 -1 -1 -1  0  1 -1 -1 -1 -1 -1  3  3 -1\n",
      " -1 -1 -1 -1 -1 -1 -1 -1 -1 -1 -1 -1 -1 -1 -1 -1 -1 -1 -1 -1 -1 -1 -1 -1\n",
      " -1 -1 -1 -1 -1 -1 -1 -1]\n"
     ]
    },
    {
     "data": {
      "text/plain": [
       "(896,)"
      ]
     },
     "execution_count": 90,
     "metadata": {},
     "output_type": "execute_result"
    }
   ],
   "source": []
  },
  {
   "cell_type": "code",
   "execution_count": 97,
   "id": "cf125a96",
   "metadata": {},
   "outputs": [
    {
     "name": "stdout",
     "output_type": "stream",
     "text": [
      "     0\n",
      "0   -1\n",
      "1   -1\n",
      "2   -1\n",
      "3   -1\n",
      "4   -1\n",
      "..  ..\n",
      "891 -1\n",
      "892 -1\n",
      "893 -1\n",
      "894 -1\n",
      "895 -1\n",
      "\n",
      "[896 rows x 1 columns]\n",
      "     C_count  N_count  O_count  F_count  P_count  ALERTS       Pbf      CSP3  \\\n",
      "0        NaN      NaN      NaN      NaN      NaN     NaN       NaN       NaN   \n",
      "1        8.0      2.0      0.0      0.0      0.0     1.0  0.564224  0.625000   \n",
      "2        8.0      2.0      0.0      0.0      0.0     1.0  0.698231  0.625000   \n",
      "3        8.0      2.0      0.0      0.0      0.0     1.0  0.572083  0.625000   \n",
      "4        9.0      2.0      0.0      0.0      0.0     1.0  0.964858  0.666667   \n",
      "..       ...      ...      ...      ...      ...     ...       ...       ...   \n",
      "892     13.0      1.0      0.0      0.0      0.0     1.0  1.022138  0.538462   \n",
      "893     13.0      1.0      0.0      0.0      0.0     1.0  0.959848  0.538462   \n",
      "894     13.0      1.0      0.0      0.0      0.0     1.0  1.022133  0.538462   \n",
      "895     13.0      1.0      0.0      0.0      0.0     1.0  1.032249  0.538462   \n",
      "896     13.0      1.0      0.0      0.0      0.0     1.0  0.775074  0.538462   \n",
      "\n",
      "         NPR1      NPR2  ...  fr_piperzine  fr_pyridine  fr_quatN  \\\n",
      "0         NaN       NaN  ...           NaN          NaN       NaN   \n",
      "1    0.142596  0.919070  ...           0.0          0.0       0.0   \n",
      "2    0.281870  0.843145  ...           0.0          0.0       0.0   \n",
      "3    0.122840  0.931363  ...           0.0          0.0       0.0   \n",
      "4    0.411357  0.946233  ...           0.0          0.0       0.0   \n",
      "..        ...       ...  ...           ...          ...       ...   \n",
      "892  0.351777  0.914236  ...           0.0          0.0       1.0   \n",
      "893  0.272378  0.914385  ...           0.0          0.0       1.0   \n",
      "894  0.351777  0.914236  ...           0.0          0.0       1.0   \n",
      "895  0.319604  0.931033  ...           0.0          0.0       1.0   \n",
      "896  0.293587  0.833400  ...           0.0          0.0       1.0   \n",
      "\n",
      "     fr_unbrch_alkane  Concentration  Temperature  Solvent(MeOD)  \\\n",
      "0                 NaN            NaN          NaN            NaN   \n",
      "1                 0.0       0.359144         30.0            0.0   \n",
      "2                 0.0       3.591438         30.0            0.0   \n",
      "3                 0.0       8.978595         30.0            0.0   \n",
      "4                 0.0       0.326264         30.0            0.0   \n",
      "..                ...            ...          ...            ...   \n",
      "892               0.0       2.000000         60.0            1.0   \n",
      "893               0.0       2.000000         60.0            1.0   \n",
      "894               0.0       2.000000         60.0            1.0   \n",
      "895               0.0       2.000000         60.0            1.0   \n",
      "896               0.0       2.000000         60.0            1.0   \n",
      "\n",
      "     Solvent(D2O)  Time(h)    0  \n",
      "0             NaN      NaN -1.0  \n",
      "1             1.0    168.0 -1.0  \n",
      "2             1.0    168.0 -1.0  \n",
      "3             1.0    168.0 -1.0  \n",
      "4             1.0    168.0 -1.0  \n",
      "..            ...      ...  ...  \n",
      "892           0.0    120.0 -1.0  \n",
      "893           0.0    216.0 -1.0  \n",
      "894           0.0    288.0 -1.0  \n",
      "895           0.0    336.0 -1.0  \n",
      "896           0.0    432.0  NaN  \n",
      "\n",
      "[897 rows x 161 columns]\n"
     ]
    }
   ],
   "source": [
    "\n",
    "#x_prediction_degradation_ann_series=pd.Series(model.clusters.iloc[:,0])\n",
    "dbscan.labels_=pd.DataFrame(dbscan.labels_)\n",
    "dbscan.labels_.\n",
    "lkb = pd.concat([raw_data, dbscan.labels_], axis=1)\n",
    "print(dbscan.labels_)\n",
    "print(lkb)"
   ]
  },
  {
   "cell_type": "code",
   "execution_count": 51,
   "id": "78a8cd8c",
   "metadata": {},
   "outputs": [
    {
     "name": "stdout",
     "output_type": "stream",
     "text": [
      "1      0\n",
      "2      1\n",
      "3      4\n",
      "4      0\n",
      "5      0\n",
      "      ..\n",
      "892    0\n",
      "893    0\n",
      "894    0\n",
      "895    0\n",
      "896    0\n",
      "Name: Clusters_5, Length: 896, dtype: int64\n",
      "1       0\n",
      "2      10\n",
      "3      10\n",
      "4       0\n",
      "5       0\n",
      "       ..\n",
      "892     0\n",
      "893     0\n",
      "894     0\n",
      "895     0\n",
      "896     0\n",
      "Name: Clusters_5, Length: 896, dtype: int64\n",
      "0.9902\n"
     ]
    }
   ],
   "source": [
    "Y_real=raw_data_all=fdata[\"Clusters_5\"]\n",
    "Y_real=pd.DataFrame(Y_real)\n",
    "y1=pd.Series(Y_real.iloc[:,0])\n",
    "print(y1)\n",
    "y_real_degradation_series[2]=10\n",
    "y_real_degradation_series[3]=10\n",
    "y2=y_real_degradation_series\n",
    "print(y2)\n",
    "corr_ann = round(y1.corr(y2), 4)\n",
    "print(corr_ann)"
   ]
  },
  {
   "cell_type": "code",
   "execution_count": 100,
   "id": "9fed0479",
   "metadata": {},
   "outputs": [
    {
     "name": "stdout",
     "output_type": "stream",
     "text": [
      "sum_0_0.csv\n",
      "sum_1_1.csv\n",
      "sum_2_2.csv\n",
      "sum_3_3.csv\n",
      "sum_4_4.csv\n",
      "sum_5_5.csv\n",
      "sum_6_6.csv\n",
      "sum_7_7.csv\n",
      "sum_8_8.csv\n",
      "sum_9_9.csv\n"
     ]
    }
   ],
   "source": [
    "for eps_range in range(0,10,1):\n",
    "    result = chem=\"sum_\"+str(eps_range)+\"_\"+str(eps_range)+\".csv\"\n",
    "    print(result)"
   ]
  },
  {
   "cell_type": "code",
   "execution_count": null,
   "id": "63d80b9f",
   "metadata": {},
   "outputs": [],
   "source": []
  }
 ],
 "metadata": {
  "kernelspec": {
   "display_name": "tf21",
   "language": "python",
   "name": "tf21"
  },
  "language_info": {
   "codemirror_mode": {
    "name": "ipython",
    "version": 3
   },
   "file_extension": ".py",
   "mimetype": "text/x-python",
   "name": "python",
   "nbconvert_exporter": "python",
   "pygments_lexer": "ipython3",
   "version": "3.7.10"
  }
 },
 "nbformat": 4,
 "nbformat_minor": 5
}
